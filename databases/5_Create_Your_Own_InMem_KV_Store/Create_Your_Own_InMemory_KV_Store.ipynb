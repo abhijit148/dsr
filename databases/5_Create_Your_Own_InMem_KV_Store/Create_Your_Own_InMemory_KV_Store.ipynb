{
 "cells": [
  {
   "cell_type": "markdown",
   "metadata": {},
   "source": [
    "# Create your Own In-Memory Key-Value Store\n",
    "\n",
    "Turns out it is not so difficult to build your own (super basic) in-memory key-value store. \n",
    "You can implement it with just one python class. \n",
    "\n",
    "### Requirements\n",
    "\n",
    "Create a key-value store such that:\n",
    "\n",
    "- All data is stored in memory\n",
    "- A `put` interface can put data in storage\n",
    "- A `get` interface can get data from storage, if it exists\n",
    "- Data can be recovered in case the database is restarted\n"
   ]
  },
  {
   "cell_type": "code",
   "execution_count": 1,
   "metadata": {},
   "outputs": [],
   "source": [
    "class InMemKV():\n",
    "    def __init__(self, wa_log=None):\n",
    "        self.wa_log = wa_log\n",
    "        self.kv = self.build_kv_from_log()\n",
    "    \n",
    "    def build_kv_from_log(self):\n",
    "        # TODO: Implement\n",
    "        return {}\n",
    "    \n",
    "    def put(self, key, value):\n",
    "        # TODO: write to log\n",
    "        self.kv[key] = value\n",
    "    \n",
    "    def get(self, key):\n",
    "        if key in self.kv:\n",
    "            return self.kv[key]\n",
    "        return None"
   ]
  },
  {
   "cell_type": "markdown",
   "metadata": {},
   "source": [
    "## Putting some data in the KV store\n",
    "\n",
    "Let's use a sample file from https://openweathermap.org/bulk.\n",
    "\n",
    "I have put a the file in `data/weather_3000.json`"
   ]
  },
  {
   "cell_type": "code",
   "execution_count": 2,
   "metadata": {},
   "outputs": [],
   "source": [
    "DATAFILE = \"data/weather_3000.json\"\n",
    "PRINT_LIMIT = 5\n",
    "row_count = 0\n",
    "with open(DATAFILE, 'r') as f:\n",
    "    for row in f:\n",
    "        if row_count >= PRINT_LIMIT:\n",
    "            break\n",
    "        print(row)\n",
    "        row_count +=1"
   ]
  },
  {
   "cell_type": "markdown",
   "metadata": {},
   "source": [
    "## Exercise 1:\n",
    "\n",
    "From this data, put in the KV store the data as following:\n",
    "\n",
    "- Key: string value from `city.findname`\n",
    "- Value: the entire `main` object"
   ]
  },
  {
   "cell_type": "code",
   "execution_count": 3,
   "metadata": {},
   "outputs": [],
   "source": [
    "in_mem_kv = InMemKV()"
   ]
  },
  {
   "cell_type": "code",
   "execution_count": 4,
   "metadata": {},
   "outputs": [],
   "source": [
    "# TODO: Your Exercise Solution"
   ]
  },
  {
   "cell_type": "markdown",
   "metadata": {},
   "source": [
    "## Test your work\n",
    "\n",
    "Let's try getting some value from your `in_mem_kv` to see if all data was written to the DB correctly"
   ]
  },
  {
   "cell_type": "code",
   "execution_count": 5,
   "metadata": {},
   "outputs": [
    {
     "name": "stdout",
     "output_type": "stream",
     "text": [
      "None\n"
     ]
    }
   ],
   "source": [
    "print(in_mem_kv.get(\"KATHMANDU\"))\n",
    "# Expected output: {'temp': 291.15, 'pressure': 1017, 'humidity': 45, 'temp_min': 291.15, 'temp_max': 291.15}"
   ]
  },
  {
   "cell_type": "code",
   "execution_count": 6,
   "metadata": {},
   "outputs": [
    {
     "name": "stdout",
     "output_type": "stream",
     "text": [
      "None\n"
     ]
    }
   ],
   "source": [
    "print(in_mem_kv.get(\"MAO\"))\n",
    "# Expected output: {'temp': 294.84, 'pressure': 1016, 'humidity': 100, 'temp_min': 294.15, 'temp_max': 295.15}"
   ]
  },
  {
   "cell_type": "code",
   "execution_count": 7,
   "metadata": {
    "scrolled": true
   },
   "outputs": [
    {
     "name": "stdout",
     "output_type": "stream",
     "text": [
      "None\n"
     ]
    }
   ],
   "source": [
    "print(in_mem_kv.get(\"DELHI\"))\n",
    "# Expected output: {'temp': 299.15, 'pressure': 1015, 'humidity': 24, 'temp_min': 299.15, 'temp_max': 299.15}"
   ]
  },
  {
   "cell_type": "code",
   "execution_count": null,
   "metadata": {},
   "outputs": [],
   "source": []
  }
 ],
 "metadata": {
  "kernelspec": {
   "display_name": "Python 3",
   "language": "python",
   "name": "python3"
  },
  "language_info": {
   "codemirror_mode": {
    "name": "ipython",
    "version": 3
   },
   "file_extension": ".py",
   "mimetype": "text/x-python",
   "name": "python",
   "nbconvert_exporter": "python",
   "pygments_lexer": "ipython3",
   "version": "3.7.0"
  }
 },
 "nbformat": 4,
 "nbformat_minor": 4
}
