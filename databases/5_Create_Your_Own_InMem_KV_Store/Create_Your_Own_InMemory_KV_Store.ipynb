{
 "cells": [
  {
   "cell_type": "markdown",
   "metadata": {},
   "source": [
    "# Create your Own In-Memory Key-Value Store\n",
    "\n",
    "Turns out it is not so difficult to build your own (super basic) in-memory key-value store. \n",
    "You can implement it with just one python class. \n",
    "\n",
    "### Requirements\n",
    "\n",
    "Create a key-value store such that:\n",
    "\n",
    "- All data is stored in memory\n",
    "- A `put` interface can put data in storage\n",
    "- A `get` interface can get data from storage, if it exists\n",
    "- Data can be recovered in case the database is restarted\n"
   ]
  },
  {
   "cell_type": "code",
   "execution_count": 1,
   "metadata": {},
   "outputs": [],
   "source": [
    "class InMemKV():\n",
    "    def __init__(self, wa_log=None):\n",
    "        self.wa_log = wa_log\n",
    "        self.kv = self.build_kv_from_log()\n",
    "    \n",
    "    def build_kv_from_log(self):\n",
    "        # TODO: Implement\n",
    "        return {}\n",
    "    \n",
    "    def put(self, key, value):\n",
    "        # TODO: write to log\n",
    "        self.kv[key] = value\n",
    "    \n",
    "    def get(self, key):\n",
    "        if key in self.kv:\n",
    "            return self.kv[key]\n",
    "        return None"
   ]
  },
  {
   "cell_type": "markdown",
   "metadata": {},
   "source": [
    "## Putting some data in the KV store\n",
    "\n",
    "Let's use a sample file from https://openweathermap.org/bulk.\n",
    "\n",
    "I have put a the file in `../data/weather_3000.json`"
   ]
  },
  {
   "cell_type": "code",
   "execution_count": 2,
   "metadata": {},
   "outputs": [
    {
     "name": "stdout",
     "output_type": "stream",
     "text": [
      "{\"city\":{\"id\":1283240,\"name\":\"Kathmandu\",\"findname\":\"KATHMANDU\",\"country\":\"NP\",\"coord\":{\"lon\":85.316666,\"lat\":27.716667},\"zoom\":7},\"time\":1489487389,\"main\":{\"temp\":291.15,\"pressure\":1017,\"humidity\":45,\"temp_min\":291.15,\"temp_max\":291.15},\"wind\":{\"speed\":9.3,\"deg\":240,\"var_beg\":200,\"var_end\":270},\"clouds\":{\"all\":75},\"weather\":[{\"id\":501,\"main\":\"Rain\",\"description\":\"proximity moderate rain\",\"icon\":\"10d\"}]}\n",
      "\n",
      "{\"city\":{\"id\":3632308,\"name\":\"Merida\",\"findname\":\"MERIDA\",\"country\":\"VE\",\"coord\":{\"lon\":-71.144997,\"lat\":8.598333},\"zoom\":8},\"time\":1489487389,\"main\":{\"temp\":283.584,\"temp_min\":283.584,\"temp_max\":283.584,\"pressure\":815.99,\"sea_level\":1024.28,\"grnd_level\":815.99,\"humidity\":100},\"wind\":{\"speed\":0.78,\"deg\":119.003},\"clouds\":{\"all\":20},\"weather\":[{\"id\":500,\"main\":\"Rain\",\"description\":\"light rain\",\"icon\":\"10n\"}],\"rain\":{\"3h\":0.43}}\n",
      "\n",
      "{\"city\":{\"id\":1280737,\"name\":\"Lhasa\",\"findname\":\"LHASA\",\"country\":\"CN\",\"coord\":{\"lon\":91.099998,\"lat\":29.65},\"zoom\":6},\"time\":1489487390,\"main\":{\"temp\":274.484,\"temp_min\":274.484,\"temp_max\":274.484,\"pressure\":603.53,\"sea_level\":1014.44,\"grnd_level\":603.53,\"humidity\":20},\"wind\":{\"speed\":3.13,\"deg\":231.003},\"clouds\":{\"all\":64},\"weather\":[{\"id\":803,\"main\":\"Clouds\",\"description\":\"broken clouds\",\"icon\":\"04d\"}]}\n",
      "\n",
      "{\"city\":{\"id\":745042,\"name\":\"İstanbul\",\"findname\":\"İSTANBUL\",\"country\":\"TR\",\"coord\":{\"lon\":28.983311,\"lat\":41.03508},\"zoom\":1,\"langs\":[{\"bg\":\"Истанбул\"},{\"el\":\"Ισταμπούλ\"},{\"en\":\"Istanbul\"},{\"es\":\"Provincia de Estambul\"},{\"ja\":\"イスタンブール\"},{\"link\":\"http:\\/\\/en.wikipedia.org\\/wiki\\/Istanbul_Province\"},{\"no\":\"Istanbul\"},{\"ru\":\"Стамбул\"},{\"tr\":\"İstanbul\"},{\"zh\":\"伊斯坦布尔\"}]},\"time\":1489487390,\"main\":{\"temp\":277.63,\"pressure\":1020,\"humidity\":86,\"temp_min\":277.15,\"temp_max\":278.15},\"wind\":{\"speed\":4.6,\"deg\":290,\"var_beg\":260,\"var_end\":320},\"clouds\":{\"all\":75},\"weather\":[{\"id\":500,\"main\":\"Rain\",\"description\":\"light rain\",\"icon\":\"10d\"}]}\n",
      "\n",
      "{\"city\":{\"id\":3496831,\"name\":\"Mao\",\"findname\":\"MAO\",\"country\":\"DO\",\"coord\":{\"lon\":-71.078133,\"lat\":19.551861},\"zoom\":10},\"time\":1489487390,\"main\":{\"temp\":294.84,\"pressure\":1016,\"humidity\":100,\"temp_min\":294.15,\"temp_max\":295.15},\"wind\":{\"speed\":2.6,\"deg\":140},\"clouds\":{\"all\":75},\"weather\":[{\"id\":803,\"main\":\"Clouds\",\"description\":\"broken clouds\",\"icon\":\"04n\"}]}\n",
      "\n"
     ]
    }
   ],
   "source": [
    "DATAFILE = \"../data/weather_3000.json\"\n",
    "PRINT_LIMIT = 5\n",
    "row_count = 0\n",
    "with open(DATAFILE, 'r') as f:\n",
    "    for row in f:\n",
    "        if row_count >= PRINT_LIMIT:\n",
    "            break\n",
    "        print(row)\n",
    "        row_count +=1"
   ]
  },
  {
   "cell_type": "markdown",
   "metadata": {},
   "source": [
    "## Exercise 1:\n",
    "\n",
    "From this data, put in the KV store the data as following:\n",
    "\n",
    "- Key: string value from `city.findname`\n",
    "- Value: the entire `main` object"
   ]
  },
  {
   "cell_type": "code",
   "execution_count": 3,
   "metadata": {},
   "outputs": [],
   "source": [
    "in_mem_kv = InMemKV()"
   ]
  },
  {
   "cell_type": "code",
   "execution_count": 4,
   "metadata": {},
   "outputs": [],
   "source": [
    "# TODO: Your Exercise Solution"
   ]
  },
  {
   "cell_type": "markdown",
   "metadata": {},
   "source": [
    "## Test your work\n",
    "\n",
    "Let's try getting some value from your `in_mem_kv` to see if all data was written to the DB correctly"
   ]
  },
  {
   "cell_type": "code",
   "execution_count": 5,
   "metadata": {},
   "outputs": [
    {
     "name": "stdout",
     "output_type": "stream",
     "text": [
      "None\n"
     ]
    }
   ],
   "source": [
    "print(in_mem_kv.get(\"KATHMANDU\"))\n",
    "# Expected output: {'temp': 291.15, 'pressure': 1017, 'humidity': 45, 'temp_min': 291.15, 'temp_max': 291.15}"
   ]
  },
  {
   "cell_type": "code",
   "execution_count": 6,
   "metadata": {},
   "outputs": [
    {
     "name": "stdout",
     "output_type": "stream",
     "text": [
      "None\n"
     ]
    }
   ],
   "source": [
    "print(in_mem_kv.get(\"MAO\"))\n",
    "# Expected output: {'temp': 294.84, 'pressure': 1016, 'humidity': 100, 'temp_min': 294.15, 'temp_max': 295.15}"
   ]
  },
  {
   "cell_type": "code",
   "execution_count": 7,
   "metadata": {
    "scrolled": true
   },
   "outputs": [
    {
     "name": "stdout",
     "output_type": "stream",
     "text": [
      "None\n"
     ]
    }
   ],
   "source": [
    "print(in_mem_kv.get(\"DELHI\"))\n",
    "# Expected output: {'temp': 299.15, 'pressure': 1015, 'humidity': 24, 'temp_min': 299.15, 'temp_max': 299.15}"
   ]
  },
  {
   "cell_type": "markdown",
   "metadata": {},
   "source": [
    "## Extra Exercise:\n",
    "\n",
    "Currently our database loses all state when it is restarted. Implement a [Write Ahead Log](https://en.wikipedia.org/wiki/Write-ahead_logging). \n",
    "\n",
    "- Use a file for your KV store `wa_log`\n",
    "- Before writing the data to the KV store, write it to this new file\n",
    "- On starting the KV store, use this file to initialize the database with the saved data\n"
   ]
  },
  {
   "cell_type": "code",
   "execution_count": null,
   "metadata": {},
   "outputs": [],
   "source": []
  }
 ],
 "metadata": {
  "kernelspec": {
   "display_name": "Python 3",
   "language": "python",
   "name": "python3"
  },
  "language_info": {
   "codemirror_mode": {
    "name": "ipython",
    "version": 3
   },
   "file_extension": ".py",
   "mimetype": "text/x-python",
   "name": "python",
   "nbconvert_exporter": "python",
   "pygments_lexer": "ipython3",
   "version": "3.7.0"
  }
 },
 "nbformat": 4,
 "nbformat_minor": 4
}
